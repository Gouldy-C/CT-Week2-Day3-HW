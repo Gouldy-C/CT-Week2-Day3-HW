{
 "cells": [
  {
   "attachments": {},
   "cell_type": "markdown",
   "metadata": {},
   "source": [
    "# Exercise"
   ]
  },
  {
   "attachments": {},
   "cell_type": "markdown",
   "metadata": {},
   "source": [
    "### 1) Build a Shopping Cart <br>\n",
    "<p><b>You can use either lists or dictionaries. The program should have the following capabilities:</b><br><br>\n",
    "1) Takes in input <br>\n",
    "2) Stores user input into a dictionary or list <br>\n",
    "3) The User can add or delete items <br>\n",
    "4) The User can see current shopping list <br>\n",
    "5) The program Loops until user 'quits' <br>\n",
    "6) Upon quitting the program, print out all items in the user's list <br>\n",
    "</p>"
   ]
  },
  {
   "cell_type": "code",
   "execution_count": null,
   "metadata": {},
   "outputs": [],
   "source": [
    "#This runs better in the standalone python file\n",
    "#jupiter notebook ui kind sucks and is buggy\n",
    "shopping_cart = {}\n",
    "def shoppingCart():\n",
    "\n",
    "    while True:\n",
    "        response = input('Would you like to view list, add to list, remove from list, or quit? [show/add/remove/quit]: ')\n",
    "        print(f\"----------------------------------------------------\")\n",
    "        \n",
    "        if response.lower() == 'add' or response.lower() == 'a':\n",
    "            addItem()\n",
    "        elif response.lower() == 'remove' or response.lower() == 'r':\n",
    "            removeItem()\n",
    "        elif response.lower() == 'show' or response.lower() == 's':\n",
    "            printCart()\n",
    "        elif response.lower() == 'quit' or response.lower() == 'q':\n",
    "            break\n",
    "        else:\n",
    "            print(\"Please enter a valid response to the questions.\\n\")\n",
    "    \n",
    "    printCart()\n",
    "\n",
    "def addItem():\n",
    "    item = input('\\nWhat would you like to add to your shopping list?: [item] ')\n",
    "    qty = input('\\nHow many do you need?: [qty] ')\n",
    "    shopping_cart[item] = qty\n",
    "\n",
    "def removeItem():\n",
    "    item = input('\\nWhat would you like to remove from your shopping list?: [item] ')\n",
    "    if item in shopping_cart:\n",
    "        shopping_cart.pop(item)\n",
    "        print(f\"{item} was removed.\\n\")\n",
    "        print(f\"----------------------------------------------------\\n\")\n",
    "    else:\n",
    "        print(f\"{item} is not in your shopping list.\\n\")\n",
    "        print(f\"----------------------------------------------------\\n\")\n",
    "\n",
    "def printCart():\n",
    "    for key, value in shopping_cart.items():\n",
    "        print(f\"{key}: {value}\")\n",
    "    print(f\"----------------------------------------------------\\n\")\n",
    "\n",
    "shoppingCart()\n"
   ]
  },
  {
   "attachments": {},
   "cell_type": "markdown",
   "metadata": {},
   "source": [
    "### 2) Create a Module in VS Code and Import It into jupyter notebook <br>\n",
    "<p><b>Module should have the following capabilities:</b><br><br>\n",
    "1) Has a function to calculate the square footage of a house <br>\n",
    "    <b>Reminder of Formula: Length X Width == Area<br>\n",
    "        <hr>\n",
    "2) Has a function to calculate the circumference of a circle <br><br>\n",
    "<b>Program in Jupyter Notebook should take in user input and use imported functions to calculate a circle's circumference or a houses square footage</b>\n",
    "</p>"
   ]
  },
  {
   "cell_type": "code",
   "execution_count": 4,
   "metadata": {},
   "outputs": [
    {
     "name": "stdout",
     "output_type": "stream",
     "text": [
      "7200\n",
      "157.07963267948966\n"
     ]
    }
   ],
   "source": [
    "from calculate import areaRectangle\n",
    "from calculate import circumference\n",
    "\n",
    "print(areaRectangle(80, 90))\n",
    "print(circumference(50))"
   ]
  }
 ],
 "metadata": {
  "kernelspec": {
   "display_name": "Python 3",
   "language": "python",
   "name": "python3"
  },
  "language_info": {
   "codemirror_mode": {
    "name": "ipython",
    "version": 3
   },
   "file_extension": ".py",
   "mimetype": "text/x-python",
   "name": "python",
   "nbconvert_exporter": "python",
   "pygments_lexer": "ipython3",
   "version": "3.11.2"
  },
  "orig_nbformat": 4
 },
 "nbformat": 4,
 "nbformat_minor": 2
}
